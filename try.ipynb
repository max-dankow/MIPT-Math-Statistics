{
 "cells": [
  {
   "cell_type": "code",
   "execution_count": 15,
   "metadata": {
    "collapsed": false
   },
   "outputs": [],
   "source": [
    "import numpy as np\n",
    "import matplotlib.pyplot as plt\n",
    "from scipy.stats import uniform\n",
    "\n",
    "theta = 10\n",
    "maxSize = 10000\n",
    "doubleMean = np.array([])\n",
    "meanPlusN = np.array([])\n",
    "firstStat = np.array([])\n",
    "firstLast = np.array([])\n",
    "lastStat = np.array([])\n",
    "sample = uniform.rvs(scale=theta, size=maxSize)\n",
    "grid = np.array([])\n",
    "\n",
    "for sampleSize in range(1, maxSize, 1):\n",
    "    grid = np.append(grid, sampleSize)\n",
    "    doubleMean = np.append(doubleMean, abs(2 * sample[:sampleSize].mean() - theta))\n",
    "    meanPlusN = np.append(meanPlusN, abs(sample[:sampleSize].mean() + np.amax(sample[:sampleSize]) / 2 - theta))\n",
    "    firstStat = np.append(firstStat, abs((sampleSize + 1) * np.amin(sample[:sampleSize]) - theta))\n",
    "    firstLast = np.append(firstLast, abs(np.amax(sample[:sampleSize]) + np.amin(sample[:sampleSize]) - theta))\n",
    "    lastStat = np.append(lastStat, abs(((sampleSize + 1) / (sampleSize)) * np.amax(sample[:sampleSize]) - theta))\n",
    "\n",
    "plt.figure(figsize=(16, 8))\n",
    "plt.plot(grid, doubleMean, color='green')\n",
    "#plt.plot(grid, firstStat, color='yellow')\n",
    "plt.plot(grid, meanPlusN, color='red')\n",
    "plt.plot(grid, firstLast, color='purple')\n",
    "plt.plot(grid, lastStat, color='blue')\n",
    "plt.ylim(0, 0.5)\n",
    "plt.show() \n"
   ]
  },
  {
   "cell_type": "code",
   "execution_count": null,
   "metadata": {
    "collapsed": true
   },
   "outputs": [],
   "source": []
  }
 ],
 "metadata": {
  "kernelspec": {
   "display_name": "Python 3",
   "language": "python",
   "name": "python3"
  },
  "language_info": {
   "codemirror_mode": {
    "name": "ipython",
    "version": 3
   },
   "file_extension": ".py",
   "mimetype": "text/x-python",
   "name": "python",
   "nbconvert_exporter": "python",
   "pygments_lexer": "ipython3",
   "version": "3.4.3"
  }
 },
 "nbformat": 4,
 "nbformat_minor": 0
}
