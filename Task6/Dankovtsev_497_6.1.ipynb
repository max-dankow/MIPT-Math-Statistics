{
 "cells": [
  {
   "cell_type": "markdown",
   "metadata": {},
   "source": [
    "<h2>Вывод формулы для предсказания</h2><br>\n",
    "$ E(N_t - N_s | N_s) = E(N_t - N_s) = \\lambda(t - s) $  так как  $ N_t - N_s $  и  $ N_s $ независимы и $ N_t - N_s \\sim Pois(\\lambda(t - s))$.<br>\n",
    "С другой стороны:<br>\n",
    "$ E(N_t - N_s | N_s) = E(N_t | N_s) - E(N_s | N_s) = E(N_t | N_s) - N_s$ по линейности условного матожидания <br> и в силу измеримости $ N_s $ относительно порожденной ей $ \\sigma $-алгебры.<br>\n",
    "Отсюда получаем искомое матожидание: $ E(N_t | N_s) = \\lambda(t - s) + N_s$"
   ]
  },
  {
   "cell_type": "code",
   "execution_count": 44,
   "metadata": {
    "collapsed": false
   },
   "outputs": [
    {
     "name": "stdout",
     "output_type": "stream",
     "text": [
      "0\t18.120000\n",
      "1\t19.818000\n",
      "2\t19.516000\n",
      "3\t19.214000\n",
      "4\t18.912000\n",
      "5\t18.610000\n",
      "6\t18.308000\n",
      "7\t18.006000\n",
      "8\t18.704000\n",
      "9\t18.402000\n",
      "10\t18.100000\n",
      "11\t17.798000\n",
      "12\t17.496000\n",
      "13\t17.194000\n",
      "14\t17.892000\n",
      "15\t17.590000\n",
      "16\t17.288000\n",
      "17\t16.986000\n",
      "18\t16.684000\n",
      "19\t16.382000\n",
      "20\t17.080000\n",
      "21\t17.778000\n",
      "22\t17.476000\n",
      "23\t18.174000\n",
      "24\t19.872000\n",
      "25\t20.570000\n",
      "26\t21.268000\n",
      "27\t21.966000\n",
      "28\t21.664000\n",
      "29\t21.362000\n",
      "30\t21.060000\n",
      "31\t20.758000\n",
      "32\t20.456000\n",
      "33\t20.154000\n",
      "34\t19.852000\n",
      "35\t21.550000\n",
      "36\t21.248000\n",
      "37\t21.946000\n",
      "38\t22.644000\n",
      "39\t22.342000\n",
      "40\t22.040000\n",
      "41\t21.738000\n",
      "42\t21.436000\n",
      "43\t21.134000\n",
      "44\t20.832000\n",
      "45\t20.530000\n",
      "46\t21.228000\n",
      "47\t21.926000\n",
      "48\t22.624000\n",
      "49\t23.322000\n",
      "50\t24.020000\n",
      "51\t23.718000\n",
      "52\t23.416000\n",
      "53\t23.114000\n",
      "54\t22.812000\n",
      "55\t23.510000\n",
      "56\t23.208000\n",
      "57\t23.906000\n",
      "58\t23.604000\n",
      "59\t23.302000\n",
      "60\t23.000000\n"
     ]
    }
   ],
   "source": [
    "import numpy as np\n",
    "\n",
    "# Считает сколько серверов вышло из строя к моменту time\n",
    "def count_failures_before(time, moments):\n",
    "    return len([moment for moment in moments if moment <= time])\n",
    "\n",
    "# Читаем данные из файла\n",
    "file = open('servers_fails.txt', 'r')\n",
    "lambda_ = float(file.readline())\n",
    "\n",
    "fail_moments = []\n",
    "for fail in file :\n",
    "    fail_moments.append(float(fail))\n",
    "file.close()\n",
    "\n",
    "# Каждую секунду считаем выведенное условное матожидание\n",
    "interval = 1\n",
    "aim_time = 60\n",
    "for time in range(0, aim_time + interval, interval):\n",
    "    print (\"%d\\t%f\" % (time, lambda_ * (aim_time - time) + count_failures_before(time, fail_moments)))"
   ]
  }
 ],
 "metadata": {
  "kernelspec": {
   "display_name": "Python 3",
   "language": "python",
   "name": "python3"
  },
  "language_info": {
   "codemirror_mode": {
    "name": "ipython",
    "version": 3
   },
   "file_extension": ".py",
   "mimetype": "text/x-python",
   "name": "python",
   "nbconvert_exporter": "python",
   "pygments_lexer": "ipython3",
   "version": "3.4.3"
  }
 },
 "nbformat": 4,
 "nbformat_minor": 0
}
